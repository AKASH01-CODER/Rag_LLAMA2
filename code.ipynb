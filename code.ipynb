{
  "nbformat": 4,
  "nbformat_minor": 0,
  "metadata": {
    "colab": {
      "provenance": [],
      "gpuType": "T4"
    },
    "kernelspec": {
      "name": "python3",
      "display_name": "Python 3"
    },
    "language_info": {
      "name": "python"
    },
    "accelerator": "GPU",
    "widgets": {
      "application/vnd.jupyter.widget-state+json": {
        "c40ab7a69d724cb39182e435c7e74047": {
          "model_module": "@jupyter-widgets/controls",
          "model_name": "HBoxModel",
          "model_module_version": "1.5.0",
          "state": {
            "_dom_classes": [],
            "_model_module": "@jupyter-widgets/controls",
            "_model_module_version": "1.5.0",
            "_model_name": "HBoxModel",
            "_view_count": null,
            "_view_module": "@jupyter-widgets/controls",
            "_view_module_version": "1.5.0",
            "_view_name": "HBoxView",
            "box_style": "",
            "children": [
              "IPY_MODEL_17b109af8c584125993c9319fa699fcc",
              "IPY_MODEL_7c8dfcc645e34d308892fc286da20fe6",
              "IPY_MODEL_d96600b586d04d1192bf09ec441260d9"
            ],
            "layout": "IPY_MODEL_b4dcbe5763f34ad18c5f836a23a4d08a"
          }
        },
        "17b109af8c584125993c9319fa699fcc": {
          "model_module": "@jupyter-widgets/controls",
          "model_name": "HTMLModel",
          "model_module_version": "1.5.0",
          "state": {
            "_dom_classes": [],
            "_model_module": "@jupyter-widgets/controls",
            "_model_module_version": "1.5.0",
            "_model_name": "HTMLModel",
            "_view_count": null,
            "_view_module": "@jupyter-widgets/controls",
            "_view_module_version": "1.5.0",
            "_view_name": "HTMLView",
            "description": "",
            "description_tooltip": null,
            "layout": "IPY_MODEL_8898939304cf417f93186a681f44a057",
            "placeholder": "​",
            "style": "IPY_MODEL_dc4c485b69b94affa7f91b345a6fad5a",
            "value": "Loading checkpoint shards: 100%"
          }
        },
        "7c8dfcc645e34d308892fc286da20fe6": {
          "model_module": "@jupyter-widgets/controls",
          "model_name": "FloatProgressModel",
          "model_module_version": "1.5.0",
          "state": {
            "_dom_classes": [],
            "_model_module": "@jupyter-widgets/controls",
            "_model_module_version": "1.5.0",
            "_model_name": "FloatProgressModel",
            "_view_count": null,
            "_view_module": "@jupyter-widgets/controls",
            "_view_module_version": "1.5.0",
            "_view_name": "ProgressView",
            "bar_style": "success",
            "description": "",
            "description_tooltip": null,
            "layout": "IPY_MODEL_9e2a5a1d51154ba48f5ef6b41a941606",
            "max": 2,
            "min": 0,
            "orientation": "horizontal",
            "style": "IPY_MODEL_a2732eef90b14147903ddc725e66e8d5",
            "value": 2
          }
        },
        "d96600b586d04d1192bf09ec441260d9": {
          "model_module": "@jupyter-widgets/controls",
          "model_name": "HTMLModel",
          "model_module_version": "1.5.0",
          "state": {
            "_dom_classes": [],
            "_model_module": "@jupyter-widgets/controls",
            "_model_module_version": "1.5.0",
            "_model_name": "HTMLModel",
            "_view_count": null,
            "_view_module": "@jupyter-widgets/controls",
            "_view_module_version": "1.5.0",
            "_view_name": "HTMLView",
            "description": "",
            "description_tooltip": null,
            "layout": "IPY_MODEL_27ad4c3f204546aa883a14753424ec50",
            "placeholder": "​",
            "style": "IPY_MODEL_1ca07fc02b8740869123f0a287e419a9",
            "value": " 2/2 [00:39&lt;00:00, 17.31s/it]"
          }
        },
        "b4dcbe5763f34ad18c5f836a23a4d08a": {
          "model_module": "@jupyter-widgets/base",
          "model_name": "LayoutModel",
          "model_module_version": "1.2.0",
          "state": {
            "_model_module": "@jupyter-widgets/base",
            "_model_module_version": "1.2.0",
            "_model_name": "LayoutModel",
            "_view_count": null,
            "_view_module": "@jupyter-widgets/base",
            "_view_module_version": "1.2.0",
            "_view_name": "LayoutView",
            "align_content": null,
            "align_items": null,
            "align_self": null,
            "border": null,
            "bottom": null,
            "display": null,
            "flex": null,
            "flex_flow": null,
            "grid_area": null,
            "grid_auto_columns": null,
            "grid_auto_flow": null,
            "grid_auto_rows": null,
            "grid_column": null,
            "grid_gap": null,
            "grid_row": null,
            "grid_template_areas": null,
            "grid_template_columns": null,
            "grid_template_rows": null,
            "height": null,
            "justify_content": null,
            "justify_items": null,
            "left": null,
            "margin": null,
            "max_height": null,
            "max_width": null,
            "min_height": null,
            "min_width": null,
            "object_fit": null,
            "object_position": null,
            "order": null,
            "overflow": null,
            "overflow_x": null,
            "overflow_y": null,
            "padding": null,
            "right": null,
            "top": null,
            "visibility": null,
            "width": null
          }
        },
        "8898939304cf417f93186a681f44a057": {
          "model_module": "@jupyter-widgets/base",
          "model_name": "LayoutModel",
          "model_module_version": "1.2.0",
          "state": {
            "_model_module": "@jupyter-widgets/base",
            "_model_module_version": "1.2.0",
            "_model_name": "LayoutModel",
            "_view_count": null,
            "_view_module": "@jupyter-widgets/base",
            "_view_module_version": "1.2.0",
            "_view_name": "LayoutView",
            "align_content": null,
            "align_items": null,
            "align_self": null,
            "border": null,
            "bottom": null,
            "display": null,
            "flex": null,
            "flex_flow": null,
            "grid_area": null,
            "grid_auto_columns": null,
            "grid_auto_flow": null,
            "grid_auto_rows": null,
            "grid_column": null,
            "grid_gap": null,
            "grid_row": null,
            "grid_template_areas": null,
            "grid_template_columns": null,
            "grid_template_rows": null,
            "height": null,
            "justify_content": null,
            "justify_items": null,
            "left": null,
            "margin": null,
            "max_height": null,
            "max_width": null,
            "min_height": null,
            "min_width": null,
            "object_fit": null,
            "object_position": null,
            "order": null,
            "overflow": null,
            "overflow_x": null,
            "overflow_y": null,
            "padding": null,
            "right": null,
            "top": null,
            "visibility": null,
            "width": null
          }
        },
        "dc4c485b69b94affa7f91b345a6fad5a": {
          "model_module": "@jupyter-widgets/controls",
          "model_name": "DescriptionStyleModel",
          "model_module_version": "1.5.0",
          "state": {
            "_model_module": "@jupyter-widgets/controls",
            "_model_module_version": "1.5.0",
            "_model_name": "DescriptionStyleModel",
            "_view_count": null,
            "_view_module": "@jupyter-widgets/base",
            "_view_module_version": "1.2.0",
            "_view_name": "StyleView",
            "description_width": ""
          }
        },
        "9e2a5a1d51154ba48f5ef6b41a941606": {
          "model_module": "@jupyter-widgets/base",
          "model_name": "LayoutModel",
          "model_module_version": "1.2.0",
          "state": {
            "_model_module": "@jupyter-widgets/base",
            "_model_module_version": "1.2.0",
            "_model_name": "LayoutModel",
            "_view_count": null,
            "_view_module": "@jupyter-widgets/base",
            "_view_module_version": "1.2.0",
            "_view_name": "LayoutView",
            "align_content": null,
            "align_items": null,
            "align_self": null,
            "border": null,
            "bottom": null,
            "display": null,
            "flex": null,
            "flex_flow": null,
            "grid_area": null,
            "grid_auto_columns": null,
            "grid_auto_flow": null,
            "grid_auto_rows": null,
            "grid_column": null,
            "grid_gap": null,
            "grid_row": null,
            "grid_template_areas": null,
            "grid_template_columns": null,
            "grid_template_rows": null,
            "height": null,
            "justify_content": null,
            "justify_items": null,
            "left": null,
            "margin": null,
            "max_height": null,
            "max_width": null,
            "min_height": null,
            "min_width": null,
            "object_fit": null,
            "object_position": null,
            "order": null,
            "overflow": null,
            "overflow_x": null,
            "overflow_y": null,
            "padding": null,
            "right": null,
            "top": null,
            "visibility": null,
            "width": null
          }
        },
        "a2732eef90b14147903ddc725e66e8d5": {
          "model_module": "@jupyter-widgets/controls",
          "model_name": "ProgressStyleModel",
          "model_module_version": "1.5.0",
          "state": {
            "_model_module": "@jupyter-widgets/controls",
            "_model_module_version": "1.5.0",
            "_model_name": "ProgressStyleModel",
            "_view_count": null,
            "_view_module": "@jupyter-widgets/base",
            "_view_module_version": "1.2.0",
            "_view_name": "StyleView",
            "bar_color": null,
            "description_width": ""
          }
        },
        "27ad4c3f204546aa883a14753424ec50": {
          "model_module": "@jupyter-widgets/base",
          "model_name": "LayoutModel",
          "model_module_version": "1.2.0",
          "state": {
            "_model_module": "@jupyter-widgets/base",
            "_model_module_version": "1.2.0",
            "_model_name": "LayoutModel",
            "_view_count": null,
            "_view_module": "@jupyter-widgets/base",
            "_view_module_version": "1.2.0",
            "_view_name": "LayoutView",
            "align_content": null,
            "align_items": null,
            "align_self": null,
            "border": null,
            "bottom": null,
            "display": null,
            "flex": null,
            "flex_flow": null,
            "grid_area": null,
            "grid_auto_columns": null,
            "grid_auto_flow": null,
            "grid_auto_rows": null,
            "grid_column": null,
            "grid_gap": null,
            "grid_row": null,
            "grid_template_areas": null,
            "grid_template_columns": null,
            "grid_template_rows": null,
            "height": null,
            "justify_content": null,
            "justify_items": null,
            "left": null,
            "margin": null,
            "max_height": null,
            "max_width": null,
            "min_height": null,
            "min_width": null,
            "object_fit": null,
            "object_position": null,
            "order": null,
            "overflow": null,
            "overflow_x": null,
            "overflow_y": null,
            "padding": null,
            "right": null,
            "top": null,
            "visibility": null,
            "width": null
          }
        },
        "1ca07fc02b8740869123f0a287e419a9": {
          "model_module": "@jupyter-widgets/controls",
          "model_name": "DescriptionStyleModel",
          "model_module_version": "1.5.0",
          "state": {
            "_model_module": "@jupyter-widgets/controls",
            "_model_module_version": "1.5.0",
            "_model_name": "DescriptionStyleModel",
            "_view_count": null,
            "_view_module": "@jupyter-widgets/base",
            "_view_module_version": "1.2.0",
            "_view_name": "StyleView",
            "description_width": ""
          }
        }
      }
    }
  },
  "cells": [
    {
      "cell_type": "code",
      "source": [
        "import os\n",
        "import PyPDF2\n",
        "import nltk\n",
        "import torch\n",
        "import gradio as gr\n",
        "from nltk.tokenize import sent_tokenize\n",
        "from sklearn.feature_extraction.text import TfidfVectorizer\n",
        "from sklearn.metrics.pairwise import cosine_similarity\n",
        "from transformers import AutoTokenizer, AutoModelForCausalLM"
      ],
      "metadata": {
        "id": "GwTpFqZiWw6C"
      },
      "execution_count": 29,
      "outputs": []
    },
    {
      "cell_type": "code",
      "source": [
        "nltk.download('punkt')\n",
        "\n",
        "class SimpleRAG:\n",
        "    def __init__(self):\n",
        "        self.documents = []\n",
        "        self.vectorizer = TfidfVectorizer()\n",
        "        self.tfidf_matrix = None\n",
        "\n",
        "        self.tokenizer = AutoTokenizer.from_pretrained(\"NousResearch/Llama-2-7b-chat-hf\")\n",
        "        self.model = AutoModelForCausalLM.from_pretrained(\"NousResearch/Llama-2-7b-chat-hf\", device_map=\"auto\", torch_dtype=torch.float16)\n",
        "\n",
        "    def extract_text_from_pdf(self, pdf_path):\n",
        "        with open(pdf_path, 'rb') as file:\n",
        "            reader = PyPDF2.PdfReader(file)\n",
        "            text = \"\"\n",
        "            for page in reader.pages:\n",
        "                text += page.extract_text() + \"\\n\"\n",
        "        return text\n",
        "\n",
        "    def process_uploaded_pdfs(self, pdf_files):\n",
        "        self.documents = []\n",
        "        for pdf_file in pdf_files:\n",
        "            text = self.extract_text_from_pdf(pdf_file.name)\n",
        "            sentences = sent_tokenize(text)\n",
        "            self.documents.extend([(sent, pdf_file.name) for sent in sentences])\n",
        "\n",
        "        texts = [doc for doc, _ in self.documents]\n",
        "        self.tfidf_matrix = self.vectorizer.fit_transform(texts)\n",
        "\n",
        "    def retrieve_relevant_context(self, query, top_k=3):\n",
        "        query_vec = self.vectorizer.transform([query])\n",
        "        similarities = cosine_similarity(query_vec, self.tfidf_matrix).flatten()\n",
        "        top_indices = similarities.argsort()[-top_k:][::-1]\n",
        "        return [self.documents[i] for i in top_indices]\n",
        "\n",
        "    def generate_answer_from_llama(self, context, query):\n",
        "        \"\"\"\n",
        "        Use Llama2 to generate an answer based on the retrieved context.\n",
        "        \"\"\"\n",
        "        input_prompt = f\"Do not use your own knowledge answer only from context provided to you Context: {context}\\n\\nQuestion: {query}\\nAnswer:\"\n",
        "\n",
        "        inputs = self.tokenizer(input_prompt, return_tensors=\"pt\").to(\"cuda\")\n",
        "        output = self.model.generate(\n",
        "            **inputs,\n",
        "            max_length=256,\n",
        "            do_sample=True,\n",
        "            temperature=0.7,\n",
        "            top_p=0.9,\n",
        "        )\n",
        "        answer = self.tokenizer.decode(output[0], skip_special_tokens=True)\n",
        "\n",
        "        if \"Answer:\" in answer:\n",
        "            answer = answer.split(\"Answer:\")[1].strip()\n",
        "\n",
        "        return answer\n",
        "\n",
        "    def answer_question(self, query):\n",
        "        relevant_contexts = self.retrieve_relevant_context(query)\n",
        "\n",
        "        combined_context = \" \".join([context for context, _ in relevant_contexts])\n",
        "\n",
        "        answer = self.generate_answer_from_llama(combined_context, query)\n",
        "\n",
        "        return answer\n",
        "\n",
        "\n",
        "\n"
      ],
      "metadata": {
        "colab": {
          "base_uri": "https://localhost:8080/"
        },
        "id": "qwLnfzBcWw33",
        "outputId": "2698ac63-a037-4b22-b15c-412bff4aabfc"
      },
      "execution_count": 35,
      "outputs": [
        {
          "output_type": "stream",
          "name": "stderr",
          "text": [
            "[nltk_data] Downloading package punkt to /root/nltk_data...\n",
            "[nltk_data]   Package punkt is already up-to-date!\n"
          ]
        }
      ]
    },
    {
      "cell_type": "code",
      "source": [
        "rag = SimpleRAG()"
      ],
      "metadata": {
        "colab": {
          "base_uri": "https://localhost:8080/",
          "height": 87,
          "referenced_widgets": [
            "c40ab7a69d724cb39182e435c7e74047",
            "17b109af8c584125993c9319fa699fcc",
            "7c8dfcc645e34d308892fc286da20fe6",
            "d96600b586d04d1192bf09ec441260d9",
            "b4dcbe5763f34ad18c5f836a23a4d08a",
            "8898939304cf417f93186a681f44a057",
            "dc4c485b69b94affa7f91b345a6fad5a",
            "9e2a5a1d51154ba48f5ef6b41a941606",
            "a2732eef90b14147903ddc725e66e8d5",
            "27ad4c3f204546aa883a14753424ec50",
            "1ca07fc02b8740869123f0a287e419a9"
          ]
        },
        "id": "E-AgW8FrcM2b",
        "outputId": "7632c938-935b-44f6-be04-5c848feace8a"
      },
      "execution_count": 31,
      "outputs": [
        {
          "output_type": "display_data",
          "data": {
            "text/plain": [
              "Loading checkpoint shards:   0%|          | 0/2 [00:00<?, ?it/s]"
            ],
            "application/vnd.jupyter.widget-view+json": {
              "version_major": 2,
              "version_minor": 0,
              "model_id": "c40ab7a69d724cb39182e435c7e74047"
            }
          },
          "metadata": {}
        },
        {
          "output_type": "stream",
          "name": "stderr",
          "text": [
            "WARNING:accelerate.big_modeling:Some parameters are on the meta device because they were offloaded to the cpu.\n"
          ]
        }
      ]
    },
    {
      "cell_type": "code",
      "source": [
        "\n",
        "\n",
        "def upload_pdfs(pdf_files):\n",
        "    rag.process_uploaded_pdfs(pdf_files)\n",
        "    return f\"{len(pdf_files)} PDF(s) uploaded and processed successfully.\"\n",
        "\n",
        "def ask_question(query):\n",
        "    answer = rag.answer_question(query)\n",
        "    return answer\n",
        "\n"
      ],
      "metadata": {
        "id": "_BsJHCWwWwtM"
      },
      "execution_count": 32,
      "outputs": []
    },
    {
      "cell_type": "code",
      "source": [
        "with gr.Blocks() as ui:\n",
        "    gr.Markdown(\"# Llama2 RAG Chatbot\")\n",
        "\n",
        "    with gr.Row():\n",
        "        pdf_files = gr.File(label=\"Upload PDFs\", file_types=[\".pdf\"], file_count=\"multiple\")\n",
        "        upload_btn = gr.Button(\"Upload PDFs\")\n",
        "\n",
        "    upload_output = gr.Textbox(label=\"PDF Upload Status\")\n",
        "    upload_btn.click(upload_pdfs, inputs=[pdf_files], outputs=[upload_output])\n",
        "\n",
        "    with gr.Row():\n",
        "        query = gr.Textbox(label=\"Ask a Question\", placeholder=\"Type your question here...\")\n",
        "        ask_btn = gr.Button(\"Ask\")\n",
        "\n",
        "    answer_output = gr.Markdown()\n",
        "    ask_btn.click(ask_question, inputs=[query], outputs=[answer_output])\n",
        "\n"
      ],
      "metadata": {
        "id": "9G6t6FmccWhC"
      },
      "execution_count": 33,
      "outputs": []
    },
    {
      "cell_type": "code",
      "source": [
        "if __name__ == \"__main__\":\n",
        "    ui.launch()"
      ],
      "metadata": {
        "colab": {
          "base_uri": "https://localhost:8080/",
          "height": 650
        },
        "id": "HHluZ2M_cYFV",
        "outputId": "866ac57f-abb6-44e7-a90a-816f6cf8f361"
      },
      "execution_count": 34,
      "outputs": [
        {
          "output_type": "stream",
          "name": "stdout",
          "text": [
            "Setting queue=True in a Colab notebook requires sharing enabled. Setting `share=True` (you can turn this off by setting `share=False` in `launch()` explicitly).\n",
            "\n",
            "Colab notebook detected. To show errors in colab notebook, set debug=True in launch()\n",
            "* Running on public URL: https://17ff09e5fe84fba572.gradio.live\n",
            "\n",
            "This share link expires in 72 hours. For free permanent hosting and GPU upgrades, run `gradio deploy` from the terminal in the working directory to deploy to Hugging Face Spaces (https://huggingface.co/spaces)\n"
          ]
        },
        {
          "output_type": "display_data",
          "data": {
            "text/plain": [
              "<IPython.core.display.HTML object>"
            ],
            "text/html": [
              "<div><iframe src=\"https://17ff09e5fe84fba572.gradio.live\" width=\"100%\" height=\"500\" allow=\"autoplay; camera; microphone; clipboard-read; clipboard-write;\" frameborder=\"0\" allowfullscreen></iframe></div>"
            ]
          },
          "metadata": {}
        }
      ]
    },
    {
      "cell_type": "code",
      "source": [],
      "metadata": {
        "id": "-OWenNDEciF1"
      },
      "execution_count": null,
      "outputs": []
    }
  ]
}